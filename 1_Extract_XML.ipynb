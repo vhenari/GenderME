{
 "cells": [
  {
   "cell_type": "markdown",
   "metadata": {},
   "source": [
    "# XML einlesen und zu einfachem JSON konvertieren"
   ]
  },
  {
   "cell_type": "code",
   "execution_count": 360,
   "metadata": {},
   "outputs": [],
   "source": [
    "import json\n",
    "import unicodedata\n",
    "import xml.etree.ElementTree as ET"
   ]
  },
  {
   "cell_type": "code",
   "execution_count": 361,
   "metadata": {},
   "outputs": [],
   "source": [
    "file_name = '209'"
   ]
  },
  {
   "cell_type": "code",
   "execution_count": 362,
   "metadata": {},
   "outputs": [],
   "source": [
    "tree = ET.parse(f'res/{file_name}.xml')\n",
    "root = tree.getroot()"
   ]
  },
  {
   "cell_type": "code",
   "execution_count": 363,
   "metadata": {},
   "outputs": [],
   "source": [
    "sitzungsverlauf = root.find('sitzungsverlauf')\n",
    "\n",
    "sitzungsbeginn = sitzungsverlauf.find('sitzungsbeginn')\n",
    "tagesordnungspunkte = sitzungsverlauf.findall('tagesordnungspunkt')"
   ]
  },
  {
   "cell_type": "code",
   "execution_count": 364,
   "metadata": {},
   "outputs": [],
   "source": [
    "all_speaks = []"
   ]
  },
  {
   "cell_type": "markdown",
   "metadata": {},
   "source": [
    "Den Einleitenden Präsidenten und seinen Text extrahieren"
   ]
  },
  {
   "cell_type": "code",
   "execution_count": 365,
   "metadata": {},
   "outputs": [],
   "source": [
    "main_president = sitzungsbeginn.find('name').text[:-1]\n",
    "\n",
    "paragraphs =  [p.text for p in sitzungsbeginn.findall('p')]\n",
    "text = ' '.join(p for p in paragraphs).strip()\n",
    "\n",
    "all_speaks.append({\n",
    "    'speaker': main_president,\n",
    "    'text': text\n",
    "})"
   ]
  },
  {
   "cell_type": "markdown",
   "metadata": {},
   "source": [
    "Alle aus Tagesordnungspunkte und innerhalb von Reden dieser extrahieren und zeitlich geordnen bezüglich Redner speichern"
   ]
  },
  {
   "cell_type": "code",
   "execution_count": 366,
   "metadata": {},
   "outputs": [],
   "source": [
    "def extract_rede(rede, main_president, data, start_with_president=False):\n",
    "    president_turn = start_with_president\n",
    "    speaker_turn = False\n",
    "\n",
    "    speaker = ''\n",
    "    fraktion = ''\n",
    "    president = main_president\n",
    "\n",
    "    texts = []\n",
    "\n",
    "    for elem in rede.findall('./'):\n",
    "\n",
    "        if elem.tag == 'kommentar':\n",
    "            continue\n",
    "            \n",
    "        if elem.tag == 'rede':\n",
    "            if len(texts) > 0:\n",
    "                person = speaker if speaker_turn else president\n",
    "                data.append({'speaker': person, 'party': fraktion, 'text': ' '.join(texts).strip()})\n",
    "            texts = []\n",
    "\n",
    "            data = extract_rede(elem, main_president, data)\n",
    "\n",
    "        elif elem.tag == 'name':\n",
    "            if len(texts) > 0:\n",
    "                if speaker_turn:\n",
    "                    data.append({'speaker': speaker, 'party': fraktion, 'text': ' '.join(texts).strip()})\n",
    "                else:\n",
    "                    data.append({'speaker': president, 'text': ' '.join(texts).strip()})\n",
    "                texts = []\n",
    "            \n",
    "            president_turn = True\n",
    "            speaker_turn = False\n",
    "            president = elem.text[:-1]\n",
    "\n",
    "        elif elem.tag == 'p' and elem.attrib['klasse'] == 'redner':\n",
    "            if len(texts) > 0:\n",
    "                if president_turn:\n",
    "                    data.append({\n",
    "                        'speaker': president,\n",
    "                        'text': ' '.join(texts).strip(),\n",
    "                    })\n",
    "                else:\n",
    "                    data.append({\n",
    "                        'speaker': speaker,\n",
    "                        'party': fraktion,\n",
    "                        'text': ' '.join(texts).strip(),\n",
    "                    })\n",
    "                texts = []\n",
    "            \n",
    "            speaker_turn = True\n",
    "            president_turn = False\n",
    "            \n",
    "            name = elem.find('redner').find('name')\n",
    "            first_name = name.find('vorname').text\n",
    "            last_name = name.find('nachname').text\n",
    "            fraktion = name.find('fraktion').text if name.find('fraktion') is not None else ''\n",
    "            speaker = f\"{first_name} {last_name}\"\n",
    "\n",
    "        else:\n",
    "            texts.append(elem.text)\n",
    "    \n",
    "    if len(texts) > 0:\n",
    "        \n",
    "        if president_turn:\n",
    "            data.append({\n",
    "                'speaker': president,\n",
    "                'text': ' '.join(texts).strip(),\n",
    "            })\n",
    "        elif speaker_turn:\n",
    "            \n",
    "            data.append({\n",
    "                'speaker': speaker,\n",
    "                'party': fraktion,\n",
    "                'text': ' '.join(texts).strip(),\n",
    "            })\n",
    "\n",
    "    return data"
   ]
  },
  {
   "cell_type": "markdown",
   "metadata": {},
   "source": [
    "Iteriere über alle Tagesordnungspunkte und speichere die Redeteile in einer Variable"
   ]
  },
  {
   "cell_type": "code",
   "execution_count": 367,
   "metadata": {},
   "outputs": [],
   "source": [
    "for tagesordnungspunkt in tagesordnungspunkte:\n",
    "    all_speaks = extract_rede(tagesordnungspunkt, main_president, all_speaks, start_with_president=True)"
   ]
  },
  {
   "cell_type": "markdown",
   "metadata": {},
   "source": [
    "Speichere das Ergebnis in einer JSON-Datei"
   ]
  },
  {
   "cell_type": "code",
   "execution_count": 368,
   "metadata": {},
   "outputs": [],
   "source": [
    "with open(f'output/speakers_{file_name}.json', 'w', encoding='utf-8') as f_out:\n",
    "    json.dump(all_speaks, f_out, ensure_ascii=False)"
   ]
  }
 ],
 "metadata": {
  "kernelspec": {
   "display_name": "Python 3",
   "language": "python",
   "name": "python3"
  },
  "language_info": {
   "codemirror_mode": {
    "name": "ipython",
    "version": 3
   },
   "file_extension": ".py",
   "mimetype": "text/x-python",
   "name": "python",
   "nbconvert_exporter": "python",
   "pygments_lexer": "ipython3",
   "version": "3.6.7"
  }
 },
 "nbformat": 4,
 "nbformat_minor": 4
}
