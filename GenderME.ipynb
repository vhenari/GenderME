{
 "cells": [
  {
   "cell_type": "markdown",
   "metadata": {},
   "source": [
    "# GenderME"
   ]
  },
  {
   "cell_type": "markdown",
   "metadata": {},
   "source": [
    "## What can the code currently do?\n",
    "1. Find approximate beginning of speeches. \n",
    "2. \n",
    "3. \n",
    "...."
   ]
  },
  {
   "cell_type": "markdown",
   "metadata": {},
   "source": [
    "## What do we still need to implement?\n",
    "1. Split into text parts consisting of president speech portion and following speech.\n",
    "2. Find *actual* beginning of speeches by politicians who are **not** (vice) president.\n",
    "3. Create table of political affiliation, e.g. Alice Weidel - AfD etc.\n",
    "4. Get rid of unnecessary text parts without speeches.\n",
    "5. Get rid of interjections.\n",
    "6. Find instances of gendered and ungendered speech in text."
   ]
  },
  {
   "cell_type": "markdown",
   "metadata": {},
   "source": [
    "**Notes on the .txt:** \n",
    "1. ~~Schäuble announces speakers. (Relevant for finding the beginning of new speeches?)~~ Actually, numerous (vice) presidents announce speakers, this needs to be taken into account. (Search for _präsident_ instead of Schäuble is the better approach).\n",
    "2. Interjections from other politicians marked with `(...)` -- in the interjections, party affiliation is marked with `[...]`.\n",
    "3. The begin of a speech is marked with ':' -- however, these also appear in speeches. For normal speakers, party affiliation is indicated with `(...)`.  "
   ]
  },
  {
   "cell_type": "markdown",
   "metadata": {},
   "source": [
    "**Needed packages:**"
   ]
  },
  {
   "cell_type": "code",
   "execution_count": 1,
   "metadata": {
    "scrolled": false
   },
   "outputs": [
    {
     "name": "stdout",
     "output_type": "stream",
     "text": [
      "package 'readr' successfully unpacked and MD5 sums checked\n",
      "\n",
      "The downloaded binary packages are in\n",
      "\tC:\\Users\\Arilila\\AppData\\Local\\Temp\\RtmpCWvRzp\\downloaded_packages\n",
      "package 'tidyverse' successfully unpacked and MD5 sums checked\n",
      "\n",
      "The downloaded binary packages are in\n",
      "\tC:\\Users\\Arilila\\AppData\\Local\\Temp\\RtmpCWvRzp\\downloaded_packages\n"
     ]
    }
   ],
   "source": [
    "options(warn=-1)               #hide warning messages; makes the code look nicer\n",
    "\n",
    "install.packages(\"readr\")\n",
    "install.packages(\"tidyverse\")"
   ]
  },
  {
   "cell_type": "code",
   "execution_count": 2,
   "metadata": {},
   "outputs": [
    {
     "name": "stderr",
     "output_type": "stream",
     "text": [
      "-- Attaching packages ------------------------------------------------------------------------------- tidyverse 1.3.0 --\n",
      "v ggplot2 3.3.3     v dplyr   1.0.4\n",
      "v tibble  3.0.6     v stringr 1.4.0\n",
      "v tidyr   1.1.2     v forcats 0.5.1\n",
      "v purrr   0.3.4     \n",
      "-- Conflicts ---------------------------------------------------------------------------------- tidyverse_conflicts() --\n",
      "x dplyr::filter() masks stats::filter()\n",
      "x dplyr::lag()    masks stats::lag()\n"
     ]
    }
   ],
   "source": [
    "library(\"readr\")\n",
    "library(\"tidyverse\")"
   ]
  },
  {
   "cell_type": "markdown",
   "metadata": {},
   "source": [
    "Load test file `plenartest.txt`.\n",
    "\n",
    "Because the original txt.file is not formatted, our analysis of the file needs to include many different aspects, e.g. finding a useful division into paragraphs ourselves. Therefore we need to split the whole document by spaces to look at the individual words and their interaction and relation with each other rather than the text as a whole. "
   ]
  },
  {
   "cell_type": "code",
   "execution_count": 3,
   "metadata": {},
   "outputs": [],
   "source": [
    "plenar_test <- read_file(\"res/plenartest.txt\")\n",
    "plenar_test_vec <- strsplit(plenar_test, \" \")[[1]];"
   ]
  },
  {
   "cell_type": "markdown",
   "metadata": {},
   "source": [
    "~~Find all instances of `Präsident Dr. Wolfgang Schäuble:` in the .txt file. This helps us:~~\n",
    "\n",
    "Find all instances of words containing `präsident` in the .txt file. Then, find the first occurance of a capitalised token followed by a colon. (Which  should be the last name of the president -- to assure this, the distance between the word containing `präsident` and the aforementioned token should not be more than the defined threshold.) \n",
    "\n",
    "This helps us:\n",
    "\n",
    "1. Find the beginning of the relevant text, allowing us to purge the meaningless beginning and end each of the plenary session txt files contains.\n",
    "2. Find the *approximate* beginning of the individual speeches, since presidents and vice presidents introduce all speakers."
   ]
  },
  {
   "cell_type": "markdown",
   "metadata": {},
   "source": [
    "Let us illustrate this using an example from the test .txt file:\n",
    "\n",
    "[...] Der gesamte und damit endgültige Stenografische Bericht der 209. Sitzung wird am 16. Februar 2021 veröffentlicht. **Präsident** *Dr. Wolfgang* **Schäuble:** Guten Morgen, liebe Kolleginnen und Kollegen! [...]\n",
    "\n",
    "In this instance, the distance between the word **Präsident** and **his last name (plus colon)** is *2*. In the following code, we will use a distance of 4 as threshold to account for PhD title, first name and last name, as well as a placeholder for people with the first names et cetera.  "
   ]
  },
  {
   "cell_type": "code",
   "execution_count": 60,
   "metadata": {},
   "outputs": [],
   "source": [
    "first_letter_is_upper <- function(text){\n",
    "    first_letter <- substring(text, 1, 1)\n",
    "    return(grepl(\"^[[:upper:]]+$\", first_letter))\n",
    "}"
   ]
  },
  {
   "cell_type": "code",
   "execution_count": 49,
   "metadata": {},
   "outputs": [],
   "source": [
    "last_letter <- function(text){\n",
    "    return(\n",
    "        substring(text, nchar(text))\n",
    "    )\n",
    "}"
   ]
  },
  {
   "cell_type": "code",
   "execution_count": 65,
   "metadata": {},
   "outputs": [],
   "source": [
    "len <- length(plenar_test_vec)\n",
    "# len <- 5000\n",
    "\n",
    "president_spotted <- FALSE\n",
    "president_position <- -1\n",
    "\n",
    "for(i in 1:len) {\n",
    "    token <- plenar_test_vec[i]\n",
    "    token_lower <- tolower(token)\n",
    "    \n",
    "    if(grepl(\"präsident\", token_lower, fixed = TRUE)) {\n",
    "        president_spotted <- TRUE\n",
    "        president_position <- i\n",
    "    } \n",
    "    \n",
    "    president_dist <- i-president_position-1\n",
    "    \n",
    "    if(president_spotted && president_dist<=4){\n",
    "        \n",
    "        if(first_letter_is_upper(token) && last_letter(token)==':'){\n",
    "       # print(token)    \n",
    "        president_spotted <- FALSE    \n",
    "        }\n",
    "    }\n",
    "    else{\n",
    "        president_spotted <- FALSE\n",
    "    }\n",
    "}"
   ]
  },
  {
   "cell_type": "markdown",
   "metadata": {},
   "source": [
    "Now, we try to find the *actual* beginning of the speeches by definining a vector with likely buzzwords, such as party affiliation (e.g. SPD) or political office (e.g. Bundeskanzlerin)."
   ]
  },
  {
   "cell_type": "code",
   "execution_count": 66,
   "metadata": {},
   "outputs": [],
   "source": [
    "#TODO"
   ]
  },
  {
   "cell_type": "markdown",
   "metadata": {},
   "source": [
    "Extract interjections `(...)`. \n",
    "\n",
    "After this step, we have our variable `plenar_test` without interjections and a second variable named `interjections` with only the interjections."
   ]
  },
  {
   "cell_type": "code",
   "execution_count": null,
   "metadata": {},
   "outputs": [],
   "source": [
    "parenthesis_pattern <- \"(?=\\\\().*?(?<=\\\\))(?:[^-a-z0-9A-Z_]|$)\"\n",
    "\n",
    "interjections <- regmatches(\n",
    "    plenar_test, \n",
    "    gregexpr(parenthesis_pattern, plenar_test, perl=T),\n",
    "    invert = FALSE\n",
    ")[[1]]\n",
    "\n",
    "plenar_test <- regmatches(\n",
    "    plenar_test, \n",
    "    gregexpr(parenthesis_pattern, plenar_test, perl=T), \n",
    "    invert = TRUE\n",
    ")[[1]]"
   ]
  },
  {
   "cell_type": "code",
   "execution_count": null,
   "metadata": {},
   "outputs": [],
   "source": [
    "plenar_test <- paste(plenar_test, collapse = '')"
   ]
  },
  {
   "cell_type": "markdown",
   "metadata": {},
   "source": [
    "This command filters the interjections. The output are interjections with dialogue elements. (This might be useful for later analysis.)"
   ]
  },
  {
   "cell_type": "code",
   "execution_count": null,
   "metadata": {},
   "outputs": [],
   "source": [
    "# for(interjection in interjections){\n",
    "#     if(grepl(':', interjection, fixed = TRUE)){\n",
    "#         print(interjection)\n",
    "#     } \n",
    "# }"
   ]
  }
 ],
 "metadata": {
  "kernelspec": {
   "display_name": "R",
   "language": "R",
   "name": "ir"
  },
  "language_info": {
   "codemirror_mode": "r",
   "file_extension": ".r",
   "mimetype": "text/x-r-source",
   "name": "R",
   "pygments_lexer": "r",
   "version": "3.6.1"
  }
 },
 "nbformat": 4,
 "nbformat_minor": 4
}
