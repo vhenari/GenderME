{
 "cells": [
  {
   "cell_type": "markdown",
   "metadata": {},
   "source": [
    "# GenderME"
   ]
  },
  {
   "cell_type": "markdown",
   "metadata": {},
   "source": [
    "**Notes on the .txt:** \n",
    "1. Schäuble announces speakers. (Relevant for finding the beginning of new speeches?)\n",
    "2. Interjections from other politicians marked with `(...)` -- for interjections, party affiliation is marked with `[...]`.  \n",
    "3. The begin of a speech is marked with ':' - however, these also appear in speeches. For normal speakers, party affiliation is indicated with `(...)`.  "
   ]
  },
  {
   "cell_type": "markdown",
   "metadata": {},
   "source": [
    "**Needed packages:**"
   ]
  },
  {
   "cell_type": "code",
   "execution_count": 1,
   "metadata": {
    "scrolled": false
   },
   "outputs": [
    {
     "name": "stdout",
     "output_type": "stream",
     "text": [
      "package 'readr' successfully unpacked and MD5 sums checked\n",
      "\n",
      "The downloaded binary packages are in\n",
      "\tC:\\Users\\Arilila\\AppData\\Local\\Temp\\RtmpUlYAHB\\downloaded_packages\n",
      "package 'tidyverse' successfully unpacked and MD5 sums checked\n",
      "\n",
      "The downloaded binary packages are in\n",
      "\tC:\\Users\\Arilila\\AppData\\Local\\Temp\\RtmpUlYAHB\\downloaded_packages\n"
     ]
    }
   ],
   "source": [
    "options(warn=-1)\n",
    "\n",
    "install.packages(\"readr\")\n",
    "install.packages(\"tidyverse\")"
   ]
  },
  {
   "cell_type": "code",
   "execution_count": 16,
   "metadata": {},
   "outputs": [],
   "source": [
    "library(\"readr\")\n",
    "library(\"tidyverse\")"
   ]
  },
  {
   "cell_type": "markdown",
   "metadata": {},
   "source": [
    "Load test file `plenartest.txt`."
   ]
  },
  {
   "cell_type": "code",
   "execution_count": 37,
   "metadata": {},
   "outputs": [],
   "source": [
    "plenar_test <- read_file(\"res/plenartest.txt\")"
   ]
  },
  {
   "cell_type": "markdown",
   "metadata": {},
   "source": [
    "Working with the .txt file:\n",
    "\n",
    "Extract interjections `(...)`. \n",
    "\n",
    "After this step, we have our variable `plenar_test` without interjections and a second variable named `interjections` with only the interjections."
   ]
  },
  {
   "cell_type": "code",
   "execution_count": 90,
   "metadata": {},
   "outputs": [],
   "source": [
    "parenthesis_pattern <- \"(?=\\\\().*?(?<=\\\\))(apple|orange|juice)(?:[^-a-z0-9A-Z_]|$)\"\n",
    "\n",
    "interjections <- regmatches(\n",
    "    plenar_test, \n",
    "    gregexpr(parenthesis_pattern, plenar_test, perl=T),\n",
    "    invert = FALSE\n",
    ")[[1]]\n",
    "\n",
    "plenar_test <- regmatches(\n",
    "    plenar_test, \n",
    "    gregexpr(parenthesis_pattern, plenar_test, perl=T), \n",
    "    invert = TRUE\n",
    ")[[1]]"
   ]
  },
  {
   "cell_type": "code",
   "execution_count": 39,
   "metadata": {},
   "outputs": [],
   "source": [
    "plenar_test <- paste(plenar_test, collapse = '')"
   ]
  },
  {
   "cell_type": "markdown",
   "metadata": {},
   "source": [
    "This command filters the interjections. The output are interjections with dialogue elements. (This might be useful for later analysis.)"
   ]
  },
  {
   "cell_type": "code",
   "execution_count": 40,
   "metadata": {},
   "outputs": [],
   "source": [
    "# for(interjection in interjections){\n",
    "#     if(grepl(':', interjection, fixed = TRUE)){\n",
    "#         print(interjection)\n",
    "#     } \n",
    "# }"
   ]
  },
  {
   "cell_type": "markdown",
   "metadata": {},
   "source": [
    "Find all instances of `Präsident Dr. Wolfgang Schäuble:` in the .txt file. This helps us:\n",
    "1. Find the beginning of the relevant text, allowing us to purge the meaningless beginning.\n",
    "2. Find the beginning of the individual speeches, since Schäuble as speaker of the plenary session has to introduce all speakers."
   ]
  },
  {
   "cell_type": "code",
   "execution_count": 79,
   "metadata": {
    "scrolled": true
   },
   "outputs": [],
   "source": [
    "plenar_test_vec <- strsplit(plenar_test, \"Präsident Dr. Wolfgang Schäuble:\")[[1]];\n",
    "plenar_test_vec <- plenar_test_vec[2:length(plenar_test_vec)]"
   ]
  },
  {
   "cell_type": "markdown",
   "metadata": {},
   "source": []
  },
  {
   "cell_type": "code",
   "execution_count": null,
   "metadata": {},
   "outputs": [],
   "source": []
  }
 ],
 "metadata": {
  "kernelspec": {
   "display_name": "R",
   "language": "R",
   "name": "ir"
  },
  "language_info": {
   "codemirror_mode": "r",
   "file_extension": ".r",
   "mimetype": "text/x-r-source",
   "name": "R",
   "pygments_lexer": "r",
   "version": "3.6.1"
  }
 },
 "nbformat": 4,
 "nbformat_minor": 4
}
