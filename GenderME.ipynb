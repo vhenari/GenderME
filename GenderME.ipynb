{
 "cells": [
  {
   "cell_type": "markdown",
   "metadata": {},
   "source": [
    "# GenderME"
   ]
  },
  {
   "cell_type": "markdown",
   "metadata": {},
   "source": [
    "**Notes on the txt:** \n",
    "1. Schäuble announces speakers.  \n",
    "2. Interjections from other politicians marked with `(...)` -- for interjections, party affiliation is marked with `[...]`.  \n",
    "3. The begin of a speech is marked with ':' - however, these also appear in speeches. For normal speakers, party affiliation is indicated with `(...)`.  "
   ]
  },
  {
   "cell_type": "markdown",
   "metadata": {},
   "source": [
    "**Needed packages:**"
   ]
  },
  {
   "cell_type": "code",
   "execution_count": 31,
   "metadata": {
    "scrolled": false
   },
   "outputs": [
    {
     "name": "stderr",
     "output_type": "stream",
     "text": [
      "Warning message:\n",
      "\"package 'readr' is in use and will not be installed\""
     ]
    }
   ],
   "source": [
    "install.packages(\"readr\")"
   ]
  },
  {
   "cell_type": "code",
   "execution_count": 1,
   "metadata": {},
   "outputs": [
    {
     "name": "stderr",
     "output_type": "stream",
     "text": [
      "Warning message:\n",
      "\"package 'readr' was built under R version 3.6.3\""
     ]
    }
   ],
   "source": [
    "library(\"readr\")"
   ]
  },
  {
   "cell_type": "markdown",
   "metadata": {},
   "source": [
    "Load test file `plenartest.txt`"
   ]
  },
  {
   "cell_type": "code",
   "execution_count": 2,
   "metadata": {},
   "outputs": [],
   "source": [
    "plenar_test <- read_file(\"res/plenartest.txt\")"
   ]
  },
  {
   "cell_type": "markdown",
   "metadata": {},
   "source": [
    "Working with the txt:\n",
    "1. Extract interjections `(...)`. After this step, we have our variable `plenar_test` without interjections and a second variable named `interjections` with only the interjections."
   ]
  },
  {
   "cell_type": "code",
   "execution_count": 13,
   "metadata": {},
   "outputs": [],
   "source": [
    "parenthesis_pattern <- \"(?=\\\\().*?(?<=\\\\))\"\n",
    "\n",
    "interjections <- regmatches(\n",
    "    plenar_test, \n",
    "    gregexpr(parenthesis_pattern, plenar_test, perl=T),\n",
    "    invert = FALSE\n",
    ")[[1]]\n",
    "\n",
    "plenar_test <- regmatches(\n",
    "    plenar_test, \n",
    "    gregexpr(parenthesis_pattern, plenar_test, perl=T), \n",
    "    invert = TRUE\n",
    ")[[1]]"
   ]
  },
  {
   "cell_type": "code",
   "execution_count": 17,
   "metadata": {},
   "outputs": [],
   "source": [
    "plenar_test <- paste(plenar_test, collapse = '')"
   ]
  },
  {
   "cell_type": "markdown",
   "metadata": {},
   "source": [
    "This command filters the interjections. The output are interjections with dialogue elements. (This might be useful for later analysis.)"
   ]
  },
  {
   "cell_type": "code",
   "execution_count": 12,
   "metadata": {},
   "outputs": [],
   "source": [
    "# for(interjection in interjections){\n",
    "#     if(grepl(':', interjection, fixed = TRUE)){\n",
    "#         print(interjection)\n",
    "#     } \n",
    "# }"
   ]
  },
  {
   "cell_type": "code",
   "execution_count": null,
   "metadata": {},
   "outputs": [],
   "source": []
  },
  {
   "cell_type": "code",
   "execution_count": null,
   "metadata": {},
   "outputs": [],
   "source": []
  }
 ],
 "metadata": {
  "kernelspec": {
   "display_name": "R",
   "language": "R",
   "name": "ir"
  },
  "language_info": {
   "codemirror_mode": "r",
   "file_extension": ".r",
   "mimetype": "text/x-r-source",
   "name": "R",
   "pygments_lexer": "r",
   "version": "3.6.1"
  }
 },
 "nbformat": 4,
 "nbformat_minor": 4
}
