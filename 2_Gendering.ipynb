{
 "cells": [
  {
   "cell_type": "markdown",
   "metadata": {},
   "source": [
    "# Find Gendered Terms - GenderME"
   ]
  },
  {
   "cell_type": "markdown",
   "metadata": {},
   "source": [
    "## What can the code currently do?\n",
    "\n",
    "1. [x] JSON einlesen\n",
    "1. [x] CSV einlesen\n",
    "1. [-]über die Texte gehen und schauen, was gegendert ist und was nicht\n",
    "1. [-]Menge und Arten der Terme zurückgeben\n",
    "1. [-]In einer CSV oder so speichern"
   ]
  },
  {
   "cell_type": "code",
   "execution_count": 1,
   "metadata": {},
   "outputs": [],
   "source": [
    "import json\n",
    "import csv\n",
    "import re\n",
    "from tqdm import tqdm"
   ]
  },
  {
   "cell_type": "code",
   "execution_count": 2,
   "metadata": {},
   "outputs": [],
   "source": [
    "with open('output/speakers.json', 'r', encoding='utf-8') as f:\n",
    "  speaker_data = json.load(f)"
   ]
  },
  {
   "cell_type": "markdown",
   "metadata": {},
   "source": [
    "Liste der Gender Terme einlesen"
   ]
  },
  {
   "cell_type": "code",
   "execution_count": 3,
   "metadata": {},
   "outputs": [
    {
     "ename": "FileNotFoundError",
     "evalue": "[Errno 2] No such file or directory: 'gendered.csv'",
     "output_type": "error",
     "traceback": [
      "\u001b[1;31m---------------------------------------------------------------------------\u001b[0m",
      "\u001b[1;31mFileNotFoundError\u001b[0m                         Traceback (most recent call last)",
      "\u001b[1;32m<ipython-input-3-d017985c7dd6>\u001b[0m in \u001b[0;36m<module>\u001b[1;34m\u001b[0m\n\u001b[0;32m      1\u001b[0m \u001b[0mgender_terms\u001b[0m \u001b[1;33m=\u001b[0m \u001b[0mset\u001b[0m\u001b[1;33m(\u001b[0m\u001b[1;33m)\u001b[0m\u001b[1;33m\u001b[0m\u001b[1;33m\u001b[0m\u001b[0m\n\u001b[0;32m      2\u001b[0m \u001b[1;33m\u001b[0m\u001b[0m\n\u001b[1;32m----> 3\u001b[1;33m \u001b[1;32mwith\u001b[0m \u001b[0mopen\u001b[0m\u001b[1;33m(\u001b[0m\u001b[1;34m'gendered.csv'\u001b[0m\u001b[1;33m,\u001b[0m \u001b[0mnewline\u001b[0m\u001b[1;33m=\u001b[0m\u001b[1;34m''\u001b[0m\u001b[1;33m,\u001b[0m \u001b[0mencoding\u001b[0m\u001b[1;33m=\u001b[0m\u001b[1;34m'utf-8'\u001b[0m\u001b[1;33m)\u001b[0m \u001b[1;32mas\u001b[0m \u001b[0mcsvfile\u001b[0m\u001b[1;33m:\u001b[0m\u001b[1;33m\u001b[0m\u001b[1;33m\u001b[0m\u001b[0m\n\u001b[0m\u001b[0;32m      4\u001b[0m     \u001b[0mreader\u001b[0m \u001b[1;33m=\u001b[0m \u001b[0mcsv\u001b[0m\u001b[1;33m.\u001b[0m\u001b[0mreader\u001b[0m\u001b[1;33m(\u001b[0m\u001b[0mcsvfile\u001b[0m\u001b[1;33m,\u001b[0m \u001b[0mdelimiter\u001b[0m\u001b[1;33m=\u001b[0m\u001b[1;34m','\u001b[0m\u001b[1;33m,\u001b[0m \u001b[0mquotechar\u001b[0m\u001b[1;33m=\u001b[0m\u001b[1;34m'|'\u001b[0m\u001b[1;33m)\u001b[0m\u001b[1;33m\u001b[0m\u001b[1;33m\u001b[0m\u001b[0m\n\u001b[0;32m      5\u001b[0m     \u001b[0mnext\u001b[0m\u001b[1;33m(\u001b[0m\u001b[0mreader\u001b[0m\u001b[1;33m)\u001b[0m \u001b[1;31m# skip header\u001b[0m\u001b[1;33m\u001b[0m\u001b[1;33m\u001b[0m\u001b[0m\n",
      "\u001b[1;31mFileNotFoundError\u001b[0m: [Errno 2] No such file or directory: 'gendered.csv'"
     ]
    }
   ],
   "source": [
    "gender_terms = set()\n",
    "\n",
    "with open('gendered.csv', newline='', encoding='utf-8') as csvfile:\n",
    "    reader = csv.reader(csvfile, delimiter=',', quotechar='|')\n",
    "    next(reader) # skip header\n",
    "\n",
    "    for row in reader:\n",
    "        term = row[1].split()\n",
    "        \n",
    "        if len(term) == 1:\n",
    "            gender_terms.add(term[0].lower())"
   ]
  },
  {
   "cell_type": "code",
   "execution_count": null,
   "metadata": {},
   "outputs": [],
   "source": [
    "print(len(gender_terms))"
   ]
  },
  {
   "cell_type": "markdown",
   "metadata": {},
   "source": [
    "Berufe einlesen die mehr als 3 Zeichen haben"
   ]
  },
  {
   "cell_type": "code",
   "execution_count": null,
   "metadata": {},
   "outputs": [],
   "source": [
    "career_lines = []\n",
    "\n",
    "with open('berufe.csv', newline='', encoding='utf-8') as csvfile:\n",
    "    reader = csv.reader(csvfile, delimiter=';')\n",
    "    \n",
    "    for i in range(8): # skip header\n",
    "        next(reader)\n",
    "    \n",
    "    for row in reader:\n",
    "        career_lines.append(row[0])"
   ]
  },
  {
   "cell_type": "code",
   "execution_count": null,
   "metadata": {},
   "outputs": [],
   "source": [
    "len(career_lines)"
   ]
  },
  {
   "cell_type": "markdown",
   "metadata": {},
   "source": [
    "Remove Parentheses"
   ]
  },
  {
   "cell_type": "code",
   "execution_count": null,
   "metadata": {},
   "outputs": [],
   "source": [
    "# interjection_pattern = '\\(.*?\\)'\n",
    "\n",
    "# for i in range(len(career_lines)):\n",
    "#     career_lines[i] = re.sub(interjection_pattern, '', career_lines[i])"
   ]
  },
  {
   "cell_type": "markdown",
   "metadata": {},
   "source": [
    "**Case 1**  \n",
    "\"Aalfischer/in\""
   ]
  },
  {
   "cell_type": "code",
   "execution_count": null,
   "metadata": {},
   "outputs": [],
   "source": [
    "new_career_lines = []\n",
    "\n",
    "for career_line in career_lines:\n",
    "    if career_line.count('/') == 1:\n",
    "        careers = career_line.split('/')\n",
    "        if careers[1].strip() == 'in':\n",
    "            # store\n",
    "            continue\n",
    "    new_career_lines.append(career_line)\n",
    "career_lines = new_career_lines"
   ]
  },
  {
   "cell_type": "code",
   "execution_count": null,
   "metadata": {},
   "outputs": [],
   "source": [
    "print(len(career_lines))"
   ]
  },
  {
   "cell_type": "markdown",
   "metadata": {},
   "source": [
    "**Case 2**  \n",
    "\"Master of Arts - American Studies\""
   ]
  },
  {
   "cell_type": "code",
   "execution_count": null,
   "metadata": {},
   "outputs": [],
   "source": [
    "new_career_lines = []\n",
    "degrees = [\"Bachelor of\", \"Master of\"]\n",
    "\n",
    "for career_line in career_lines:\n",
    "    if any(degree in career_line for degree in degrees):\n",
    "        # store\n",
    "        pass\n",
    "    else:\n",
    "        new_career_lines.append(career_line)\n",
    "\n",
    "career_lines = new_career_lines"
   ]
  },
  {
   "cell_type": "code",
   "execution_count": null,
   "metadata": {},
   "outputs": [],
   "source": [
    "print(len(career_lines))"
   ]
  },
  {
   "cell_type": "markdown",
   "metadata": {},
   "source": [
    "**Case 3**  \n",
    "\"Abbeizer/in (Dekapierer/in)\""
   ]
  },
  {
   "cell_type": "code",
   "execution_count": null,
   "metadata": {},
   "outputs": [],
   "source": [
    "new_career_lines = []\n",
    "\n",
    "for career_line in career_lines:\n",
    "    careers = career_line.split('/')\n",
    "    if len(careers) > 1:\n",
    "        right_side = ' '.join(careers[1:])\n",
    "        if right_side[:4] == 'in (':\n",
    "            pass\n",
    "            # store\n",
    "        else:\n",
    "            new_career_lines.append(career_line)\n",
    "\n",
    "career_lines = new_career_lines"
   ]
  },
  {
   "cell_type": "code",
   "execution_count": null,
   "metadata": {},
   "outputs": [],
   "source": [
    "print(len(career_lines))"
   ]
  },
  {
   "cell_type": "markdown",
   "metadata": {},
   "source": [
    "**Case 4**  \n",
    "\"Bautechniker/in - Baudenkmalpflege/Altbauerneuerung\""
   ]
  },
  {
   "cell_type": "code",
   "execution_count": null,
   "metadata": {},
   "outputs": [],
   "source": [
    "new_career_lines = []\n",
    "\n",
    "for career_line in career_lines:\n",
    "    careers = career_line.split('/')\n",
    "    if len(careers) > 1:\n",
    "        right_side = ' '.join(careers[1:])\n",
    "        if right_side[:5] == 'in - ':\n",
    "            pass\n",
    "            # store\n",
    "        else:\n",
    "            new_career_lines.append(career_line)\n",
    "\n",
    "career_lines = new_career_lines"
   ]
  },
  {
   "cell_type": "code",
   "execution_count": null,
   "metadata": {},
   "outputs": [],
   "source": [
    "print(len(career_lines))"
   ]
  },
  {
   "cell_type": "markdown",
   "metadata": {},
   "source": [
    "**Case 5**  \n",
    "\"Verfahrenstechnolog(e/in) - Mühlen-/Getreidew. - Müllerei\""
   ]
  },
  {
   "cell_type": "code",
   "execution_count": null,
   "metadata": {},
   "outputs": [],
   "source": [
    "new_career_lines = []\n",
    "\n",
    "for career_line in career_lines:\n",
    "    careers = career_line.split('(e/in)')\n",
    "    if len(careers) > 1:\n",
    "        # store\n",
    "        pass\n",
    "    else:\n",
    "        careers = career_line.split('(er/in)')\n",
    "        if len(careers) > 1:\n",
    "            # store\n",
    "            pass\n",
    "        else:\n",
    "            new_career_lines.append(career_line)\n",
    "\n",
    "career_lines = new_career_lines"
   ]
  },
  {
   "cell_type": "code",
   "execution_count": null,
   "metadata": {},
   "outputs": [],
   "source": [
    "print(len(career_lines))"
   ]
  },
  {
   "cell_type": "markdown",
   "metadata": {},
   "source": [
    "**Case 6**  \n",
    "\"Androloge/Andrologin\""
   ]
  },
  {
   "cell_type": "code",
   "execution_count": null,
   "metadata": {},
   "outputs": [],
   "source": [
    "new_career_lines = []\n",
    "\n",
    "for career_line in career_lines:\n",
    "    careers = career_line.split('/')\n",
    "    if len(careers) == 2 and careers[0][-1] == 'e':\n",
    "        if careers[1] == careers[0][:-1] + 'in':\n",
    "            #store\n",
    "            continue\n",
    "    \n",
    "    new_career_lines.append(career_line)\n",
    "        \n",
    "career_lines = new_career_lines"
   ]
  },
  {
   "cell_type": "code",
   "execution_count": null,
   "metadata": {},
   "outputs": [],
   "source": [
    "print(len(career_lines))"
   ]
  },
  {
   "cell_type": "markdown",
   "metadata": {},
   "source": [
    "**Case 7**  \n",
    "\"Anrichtegehilfe/-gehilfin\""
   ]
  },
  {
   "cell_type": "code",
   "execution_count": null,
   "metadata": {},
   "outputs": [],
   "source": [
    "new_career_lines = []\n",
    "\n",
    "for career_line in career_lines:\n",
    "    careers = career_line.split('/')\n",
    "    if len(careers) == 2 and careers[0][-1] == 'e':\n",
    "        if len(careers[1].split()) == 1 and careers[1][0] == '-' and careers[1][-2:] == 'in':\n",
    "            # store\n",
    "            continue\n",
    "\n",
    "    new_career_lines.append(career_line)\n",
    "        \n",
    "career_lines = new_career_lines"
   ]
  },
  {
   "cell_type": "code",
   "execution_count": null,
   "metadata": {},
   "outputs": [],
   "source": [
    "print(len(career_lines))"
   ]
  },
  {
   "cell_type": "markdown",
   "metadata": {},
   "source": [
    "**Case 8**  \n",
    "\"Anwalt/Anwältin\""
   ]
  },
  {
   "cell_type": "code",
   "execution_count": null,
   "metadata": {},
   "outputs": [],
   "source": [
    "new_career_lines = []\n",
    "\n",
    "for career_line in career_lines:\n",
    "    careers = career_line.split('/')\n",
    "    if len(careers) == 2:\n",
    "        if len(careers[0].split()) == 1 and len(careers[1].split()) == 1:\n",
    "            if careers[1][0].isupper():\n",
    "                # store\n",
    "                continue\n",
    "    new_career_lines.append(career_line)\n",
    "        \n",
    "career_lines = new_career_lines"
   ]
  },
  {
   "cell_type": "code",
   "execution_count": null,
   "metadata": {},
   "outputs": [],
   "source": [
    "print(len(career_lines))"
   ]
  },
  {
   "cell_type": "code",
   "execution_count": null,
   "metadata": {},
   "outputs": [],
   "source": [
    "new_career_lines = []\n",
    "\n",
    "for career_line in career_lines:\n",
    "    if '/r' in career_line and '/in' in career_line:\n",
    "        found = False\n",
    "        for word in career_line.split():\n",
    "            if word[-3:] == '/in':\n",
    "                # store\n",
    "                found = True\n",
    "                break\n",
    "        if found:\n",
    "            continue\n",
    "\n",
    "    new_career_lines.append(career_line)\n",
    "\n",
    "career_lines = new_career_lines"
   ]
  },
  {
   "cell_type": "code",
   "execution_count": null,
   "metadata": {},
   "outputs": [],
   "source": [
    "print(len(career_lines))"
   ]
  },
  {
   "cell_type": "markdown",
   "metadata": {},
   "source": [
    "**Case 10**  \n",
    "\"Alleinsteuermann/-frau\""
   ]
  },
  {
   "cell_type": "code",
   "execution_count": null,
   "metadata": {},
   "outputs": [],
   "source": [
    "new_career_lines = []\n",
    "\n",
    "for career_line in career_lines:\n",
    "    careers = career_line.split('/')\n",
    "    if len(careers) == 2:\n",
    "        if careers[0][-4:] == 'mann' and careers[1][:5] == '-frau':\n",
    "            # store\n",
    "            continue\n",
    "    new_career_lines.append(career_line)\n",
    "\n",
    "career_lines = new_career_lines"
   ]
  },
  {
   "cell_type": "code",
   "execution_count": null,
   "metadata": {},
   "outputs": [],
   "source": [
    "print(len(career_lines))"
   ]
  },
  {
   "cell_type": "markdown",
   "metadata": {},
   "source": [
    "**Case 11**  \n",
    "\"Dipl. Ing.\" entfernen"
   ]
  },
  {
   "cell_type": "code",
   "execution_count": null,
   "metadata": {},
   "outputs": [],
   "source": [
    "new_career_lines = []\n",
    "\n",
    "for career_line in career_lines:\n",
    "    if \"Dipl.\" in career_line or \"Ing.\" in career_line:\n",
    "        continue\n",
    "    new_career_lines.append(career_line)\n",
    "\n",
    "career_lines = new_career_lines"
   ]
  },
  {
   "cell_type": "code",
   "execution_count": null,
   "metadata": {},
   "outputs": [],
   "source": [
    "print(len(career_lines))"
   ]
  },
  {
   "cell_type": "markdown",
   "metadata": {},
   "source": [
    "**Case 12**  \n",
    "\"Stationsschwester/-pfleger\""
   ]
  },
  {
   "cell_type": "code",
   "execution_count": null,
   "metadata": {},
   "outputs": [],
   "source": [
    "new_career_lines = []\n",
    "\n",
    "for career_line in career_lines:\n",
    "    careers = career_line.split('/')\n",
    "    if len(careers) == 2:\n",
    "        if \"schwester\" in careers[0] and careers[1] == \"-pfleger\":\n",
    "            # store\n",
    "            continue\n",
    "            \n",
    "    new_career_lines.append(career_line)\n",
    "\n",
    "career_lines = new_career_lines"
   ]
  },
  {
   "cell_type": "code",
   "execution_count": null,
   "metadata": {},
   "outputs": [],
   "source": [
    "print(len(career_lines))"
   ]
  },
  {
   "cell_type": "code",
   "execution_count": null,
   "metadata": {},
   "outputs": [],
   "source": [
    "\n",
    "\n",
    "careers = set()\n",
    "\n",
    "with open('berufe.csv', newline='', encoding='utf-8') as csvfile:\n",
    "    reader = csv.reader(csvfile, delimiter=';', quotechar='|')\n",
    "    \n",
    "    for i in range(8): # skip header\n",
    "        next(reader)\n",
    "    \n",
    "    for row in reader:\n",
    "        \n",
    "        # remove parentheses\n",
    "        for i in range(len(row)):\n",
    "            row[i] = re.sub(interjection_pattern, '', row[i])\n",
    "        \n",
    "        if row[0].count('/') > 1:\n",
    "            print(row[0])\n",
    "        \n",
    "        career = row[0].split('/')\n",
    "        \n",
    "        if len(career[0].split()) > 1:\n",
    "            continue\n",
    "\n",
    "        male_career = career[0].split(' - ')[0].strip() # clean and store\n",
    "        \n",
    "        if len(career) > 1:\n",
    "            female_career = career[1]\n",
    "\n",
    "            female_career = female_career.split(' - ')[0].strip() # clean female career\n",
    "            \n",
    "            if female_career[0].isupper() and len(female_career.split()) == 1:\n",
    "                gender_terms.add(female_career)\n",
    "            \n",
    "            elif male_career[-1] == 'e' and female_career[0] == '-' and female_career[-2:] == 'in':\n",
    "                gender_terms.add(male_career[:-1])\n",
    "            else:\n",
    "                gender_terms.add(male_career)\n",
    "\n",
    "gender_terms = set(\n",
    "    word for word in list(gender_terms) if not word[0].islower()\n",
    ")\n",
    "for word in [\"Ober\", \"Wirt\", \"Erbe\", \"Erste\", \"Politische\"]:\n",
    "    if word in gender_terms:\n",
    "        gender_terms.remove(word)"
   ]
  },
  {
   "cell_type": "code",
   "execution_count": null,
   "metadata": {},
   "outputs": [],
   "source": [
    "print(len(gender_terms))"
   ]
  },
  {
   "cell_type": "markdown",
   "metadata": {},
   "source": [
    "Suche nach Gender Wörtern im Text"
   ]
  },
  {
   "cell_type": "code",
   "execution_count": null,
   "metadata": {},
   "outputs": [],
   "source": [
    "def terms_in_speech(speech):\n",
    "    result_set = set()\n",
    "    \n",
    "    tokens = speech.split()\n",
    "    lower_tokens = [token.lower() for token in tokens]\n",
    "    \n",
    "    # Check careers\n",
    "    for i, token in enumerate(tokens):\n",
    "        for gender_term in gender_terms:\n",
    "            if gender_term.lower() in token:\n",
    "                print(token, gender_term)\n",
    "                result_set.add((i, token))\n",
    "                break\n",
    "    \n",
    "    return sorted(list(result_set))"
   ]
  },
  {
   "cell_type": "code",
   "execution_count": null,
   "metadata": {},
   "outputs": [],
   "source": [
    "for i, speaker in enumerate(speaker_data):\n",
    "    if i != 0:\n",
    "        continue\n",
    "\n",
    "    for speech in speaker['speeches']:\n",
    "        \n",
    "        relevat_pos_terms = terms_in_speech(speech) \n",
    "        speech_terms = speech.split()\n",
    "        \n",
    "        for pos_term in relevat_pos_terms:\n",
    "            pos = pos_term[0]\n",
    "            result = ' '.join(speech_terms[pos-2:pos]) + ' |' + speech_terms[pos] + '| ' + ' '.join(speech_terms[pos+1:pos+3])\n",
    "            print(result)\n",
    "            \n",
    "        break\n"
   ]
  },
  {
   "cell_type": "code",
   "execution_count": null,
   "metadata": {},
   "outputs": [],
   "source": []
  },
  {
   "cell_type": "code",
   "execution_count": null,
   "metadata": {},
   "outputs": [],
   "source": []
  }
 ],
 "metadata": {
  "kernelspec": {
   "display_name": "Python 3",
   "language": "python",
   "name": "python3"
  },
  "language_info": {
   "codemirror_mode": {
    "name": "ipython",
    "version": 3
   },
   "file_extension": ".py",
   "mimetype": "text/x-python",
   "name": "python",
   "nbconvert_exporter": "python",
   "pygments_lexer": "ipython3",
   "version": "3.8.5"
  }
 },
 "nbformat": 4,
 "nbformat_minor": 4
}
