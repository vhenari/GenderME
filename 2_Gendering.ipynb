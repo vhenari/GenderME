{
 "cells": [
  {
   "cell_type": "markdown",
   "metadata": {},
   "source": [
    "# GenderME: Find Gendered Terms"
   ]
  },
  {
   "cell_type": "markdown",
   "metadata": {},
   "source": [
    "### What can our code currently do?\n",
    "\n",
    "1. [x] Load json file from first part.\n",
    "1. [x] Read our two resource csv files with (un)gendered terms.\n",
    "1. [x] Untangle our data to make it useful for our project.\n",
    "1. [x] Use csv file data to iterate over speeches and find (un)gendered terms.\n",
    "1. [x] Save findings as csv file.\n",
    "\n",
    "### What should it be able to perhaps do in the future(?) -- idea dump\n",
    "1. [ ] Find out whether gendered speech was used without human help...? No idea how currently\n",
    "1. [ ] Other things depends on (1), such as how often was someone using ungendered speech etc."
   ]
  },
  {
   "cell_type": "markdown",
   "metadata": {},
   "source": [
    "Load needed packages."
   ]
  },
  {
   "cell_type": "code",
   "execution_count": 87,
   "metadata": {},
   "outputs": [],
   "source": [
    "import json\n",
    "import csv\n",
    "import re\n",
    "import string\n",
    "from tqdm import tqdm"
   ]
  },
  {
   "cell_type": "markdown",
   "metadata": {},
   "source": [
    "Read `csv file` with gendered terms."
   ]
  },
  {
   "cell_type": "code",
   "execution_count": 88,
   "metadata": {},
   "outputs": [],
   "source": [
    "gender_terms = set()\n",
    "\n",
    "with open('res/gendered.csv', newline='', encoding='utf-8') as csvfile:\n",
    "    reader = csv.reader(csvfile, delimiter=',', quotechar='|')\n",
    "    next(reader) # skip header\n",
    "\n",
    "    for row in reader:\n",
    "        term = row[1].split()\n",
    "        \n",
    "        if len(term) == 1:\n",
    "            gender_terms.add(term[0].lower())"
   ]
  },
  {
   "cell_type": "code",
   "execution_count": 89,
   "metadata": {},
   "outputs": [
    {
     "name": "stdout",
     "output_type": "stream",
     "text": [
      "1334\n"
     ]
    }
   ],
   "source": [
    "print(len(gender_terms))"
   ]
  },
  {
   "cell_type": "markdown",
   "metadata": {},
   "source": [
    "Read `csv file` with even more terms. (Seriously, it's a _lot_ of terms)."
   ]
  },
  {
   "cell_type": "code",
   "execution_count": 90,
   "metadata": {},
   "outputs": [],
   "source": [
    "all_careers = set()\n",
    "career_lines = []\n",
    "\n",
    "with open('res/berufe.csv', newline='', encoding='utf-8') as csvfile:\n",
    "    reader = csv.reader(csvfile, delimiter=';')\n",
    "    \n",
    "    for i in range(8): # skip header\n",
    "        next(reader)\n",
    "    \n",
    "    for row in reader:\n",
    "        career_lines.append(row[0])"
   ]
  },
  {
   "cell_type": "code",
   "execution_count": 91,
   "metadata": {},
   "outputs": [
    {
     "data": {
      "text/plain": [
       "27854"
      ]
     },
     "execution_count": 91,
     "metadata": {},
     "output_type": "execute_result"
    }
   ],
   "source": [
    "len(career_lines)"
   ]
  },
  {
   "cell_type": "markdown",
   "metadata": {},
   "source": [
    "## Pipeline\n",
    "\n",
    "The following steps detail the cases found in the second `csv file`, which - due to the sheer number of terms listed - is a long and quite unclean data set."
   ]
  },
  {
   "cell_type": "markdown",
   "metadata": {},
   "source": [
    "**Case 1**  \n",
    "`Aalfischer/in` → Only add left part of the term. (Since the algorithm will automatically also find the female version if it occurs in a speech.)"
   ]
  },
  {
   "cell_type": "code",
   "execution_count": 92,
   "metadata": {},
   "outputs": [],
   "source": [
    "new_career_lines = []\n",
    "\n",
    "for career_line in career_lines:\n",
    "    if career_line.count('/') == 1:\n",
    "        careers = career_line.split('/')\n",
    "        if careers[1].strip() == 'in':\n",
    "            all_careers.add(careers[0]) # store\n",
    "            continue\n",
    "    new_career_lines.append(career_line)\n",
    "career_lines = new_career_lines"
   ]
  },
  {
   "cell_type": "code",
   "execution_count": 93,
   "metadata": {},
   "outputs": [
    {
     "name": "stdout",
     "output_type": "stream",
     "text": [
      "Rest: 13873\n",
      "Extracted: 13980\n"
     ]
    }
   ],
   "source": [
    "print(\"Rest:\", len(career_lines))\n",
    "print(\"Extracted:\", len(all_careers))"
   ]
  },
  {
   "cell_type": "markdown",
   "metadata": {},
   "source": [
    "**Case 2**  \n",
    "`Master of Arts - American Studies` → Remove. (Master and Bachelor)"
   ]
  },
  {
   "cell_type": "code",
   "execution_count": 94,
   "metadata": {},
   "outputs": [],
   "source": [
    "new_career_lines = []\n",
    "degrees = [\"Bachelor of\", \"Master of\"]\n",
    "\n",
    "for career_line in career_lines:\n",
    "    if not any(degree in career_line for degree in degrees):\n",
    "        new_career_lines.append(career_line)\n",
    "\n",
    "career_lines = new_career_lines"
   ]
  },
  {
   "cell_type": "code",
   "execution_count": 95,
   "metadata": {},
   "outputs": [
    {
     "name": "stdout",
     "output_type": "stream",
     "text": [
      "Rest: 13494\n",
      "Extracted: 13980\n"
     ]
    }
   ],
   "source": [
    "print(\"Rest:\", len(career_lines))\n",
    "print(\"Extracted:\", len(all_careers))"
   ]
  },
  {
   "cell_type": "markdown",
   "metadata": {},
   "source": [
    "**Case 3**  \n",
    "`Abbeizer/in (Dekapierer/in)` → Add left part of lefthand word. Discard rest."
   ]
  },
  {
   "cell_type": "code",
   "execution_count": 96,
   "metadata": {},
   "outputs": [],
   "source": [
    "new_career_lines = []\n",
    "\n",
    "for career_line in career_lines:\n",
    "    careers = career_line.split('/')\n",
    "    if len(careers) > 1:\n",
    "        right_side = ' '.join(careers[1:])\n",
    "        if right_side[:4] == 'in (':\n",
    "            all_careers.add(careers[0]) # store\n",
    "        else:\n",
    "            new_career_lines.append(career_line)\n",
    "\n",
    "career_lines = new_career_lines"
   ]
  },
  {
   "cell_type": "code",
   "execution_count": 97,
   "metadata": {},
   "outputs": [
    {
     "name": "stdout",
     "output_type": "stream",
     "text": [
      "Rest: 9478\n",
      "Extracted: 15562\n"
     ]
    }
   ],
   "source": [
    "print(\"Rest:\", len(career_lines))\n",
    "print(\"Extracted:\", len(all_careers))"
   ]
  },
  {
   "cell_type": "markdown",
   "metadata": {},
   "source": [
    "**Case 4**  \n",
    "`Bautechniker/in - Baudenkmalpflege/Altbauerneuerung` → Add left part of lefthand word. Discard rest."
   ]
  },
  {
   "cell_type": "code",
   "execution_count": 98,
   "metadata": {},
   "outputs": [],
   "source": [
    "new_career_lines = []\n",
    "\n",
    "for career_line in career_lines:\n",
    "    careers = career_line.split('/')\n",
    "    if len(careers) > 1:\n",
    "        right_side = ' '.join(careers[1:])\n",
    "        if right_side[:5] == 'in - ':\n",
    "            all_careers.add(careers[0]) # store\n",
    "        else:\n",
    "            new_career_lines.append(career_line)\n",
    "\n",
    "career_lines = new_career_lines"
   ]
  },
  {
   "cell_type": "code",
   "execution_count": 99,
   "metadata": {},
   "outputs": [
    {
     "name": "stdout",
     "output_type": "stream",
     "text": [
      "Rest: 3568\n",
      "Extracted: 15825\n"
     ]
    }
   ],
   "source": [
    "print(\"Rest:\", len(career_lines))\n",
    "print(\"Extracted:\", len(all_careers))"
   ]
  },
  {
   "cell_type": "markdown",
   "metadata": {},
   "source": [
    "**Case 5**  \n",
    "`Verfahrenstechnolog(e/in) - Mühlen-/Getreidew. - Müllerei` → Add male and female version of lefthand word. Discard rest."
   ]
  },
  {
   "cell_type": "code",
   "execution_count": 100,
   "metadata": {},
   "outputs": [],
   "source": [
    "new_career_lines = []\n",
    "\n",
    "for career_line in career_lines:\n",
    "    careers = career_line.split('(e/in)')\n",
    "    if len(careers) > 1:\n",
    "        all_careers.add(careers[0] + 'e') # store\n",
    "        all_careers.add(careers[0] + 'in') # store\n",
    "    else:\n",
    "        careers = career_line.split('(er/in)')\n",
    "        if len(careers) > 1:\n",
    "            all_careers.add(careers[0] + 'er') # store\n",
    "            all_careers.add(careers[0] + 'in') # store\n",
    "        else:\n",
    "            new_career_lines.append(career_line)\n",
    "\n",
    "career_lines = new_career_lines"
   ]
  },
  {
   "cell_type": "code",
   "execution_count": 101,
   "metadata": {},
   "outputs": [
    {
     "name": "stdout",
     "output_type": "stream",
     "text": [
      "Rest: 3196\n",
      "Extracted: 16043\n"
     ]
    }
   ],
   "source": [
    "print(\"Rest:\", len(career_lines))\n",
    "print(\"Extracted:\", len(all_careers))"
   ]
  },
  {
   "cell_type": "markdown",
   "metadata": {},
   "source": [
    "**Case 6**  \n",
    "`Androloge/Andrologin` → Add lemma of term, e.g. `Androlog`."
   ]
  },
  {
   "cell_type": "code",
   "execution_count": 102,
   "metadata": {},
   "outputs": [],
   "source": [
    "new_career_lines = []\n",
    "\n",
    "for career_line in career_lines:\n",
    "    careers = career_line.split('/')\n",
    "    if len(careers) == 2 and careers[0][-1] == 'e':\n",
    "        if careers[1] == careers[0][:-1] + 'in':\n",
    "            all_careers.add(careers[0][:-1]) # store\n",
    "            continue\n",
    "    \n",
    "    new_career_lines.append(career_line)\n",
    "        \n",
    "career_lines = new_career_lines"
   ]
  },
  {
   "cell_type": "code",
   "execution_count": 103,
   "metadata": {},
   "outputs": [
    {
     "name": "stdout",
     "output_type": "stream",
     "text": [
      "Rest: 3068\n",
      "Extracted: 16171\n"
     ]
    }
   ],
   "source": [
    "print(\"Rest:\", len(career_lines))\n",
    "print(\"Extracted:\", len(all_careers))"
   ]
  },
  {
   "cell_type": "markdown",
   "metadata": {},
   "source": [
    "**Case 7**  \n",
    "`Anrichtegehilfe/-gehilfin` → Add lemma of word, e.g. `Anrichtgehilf`."
   ]
  },
  {
   "cell_type": "code",
   "execution_count": 104,
   "metadata": {},
   "outputs": [],
   "source": [
    "new_career_lines = []\n",
    "\n",
    "for career_line in career_lines:\n",
    "    careers = career_line.split('/')\n",
    "    if len(careers) == 2 and careers[0][-1] == 'e':\n",
    "        if len(careers[1].split()) == 1 and careers[1][0] == '-' and careers[1][-2:] == 'in':\n",
    "            all_careers.add(careers[0][:-1]) # store\n",
    "            continue\n",
    "\n",
    "    new_career_lines.append(career_line)\n",
    "        \n",
    "career_lines = new_career_lines"
   ]
  },
  {
   "cell_type": "code",
   "execution_count": 105,
   "metadata": {},
   "outputs": [
    {
     "name": "stdout",
     "output_type": "stream",
     "text": [
      "Rest: 2745\n",
      "Extracted: 16494\n"
     ]
    }
   ],
   "source": [
    "print(\"Rest:\", len(career_lines))\n",
    "print(\"Extracted:\", len(all_careers))"
   ]
  },
  {
   "cell_type": "markdown",
   "metadata": {},
   "source": [
    "**Case 8**  \n",
    "`Anwalt/Anwältin` → Add both terms."
   ]
  },
  {
   "cell_type": "code",
   "execution_count": 106,
   "metadata": {},
   "outputs": [],
   "source": [
    "new_career_lines = []\n",
    "\n",
    "for career_line in career_lines:\n",
    "    careers = career_line.split('/')\n",
    "    if len(careers) == 2:\n",
    "        if len(careers[0].split()) == 1 and len(careers[1].split()) == 1:\n",
    "            if careers[1][0].isupper():\n",
    "                all_careers.add(careers[0]) # store\n",
    "                all_careers.add(careers[1]) # store\n",
    "                continue\n",
    "    new_career_lines.append(career_line)\n",
    "        \n",
    "career_lines = new_career_lines"
   ]
  },
  {
   "cell_type": "code",
   "execution_count": 107,
   "metadata": {},
   "outputs": [
    {
     "name": "stdout",
     "output_type": "stream",
     "text": [
      "Rest: 2679\n",
      "Extracted: 16615\n"
     ]
    }
   ],
   "source": [
    "print(\"Rest:\", len(career_lines))\n",
    "print(\"Extracted:\", len(all_careers))"
   ]
  },
  {
   "cell_type": "markdown",
   "metadata": {},
   "source": [
    "**Case 9**  \n",
    "`Politische/r Berater/in` → Only add righthand term, disregard lefthand term as well as `/in`."
   ]
  },
  {
   "cell_type": "code",
   "execution_count": 108,
   "metadata": {},
   "outputs": [],
   "source": [
    "new_career_lines = []\n",
    "\n",
    "for career_line in career_lines:\n",
    "    if '/r' in career_line and '/in' in career_line:\n",
    "        found = False\n",
    "        for word in career_line.split():\n",
    "            if word[-3:] == '/in':\n",
    "                all_careers.add(word[:-3]) # store\n",
    "                found = True\n",
    "                break\n",
    "        if found:\n",
    "            continue\n",
    "\n",
    "    new_career_lines.append(career_line)\n",
    "\n",
    "career_lines = new_career_lines"
   ]
  },
  {
   "cell_type": "code",
   "execution_count": 109,
   "metadata": {},
   "outputs": [
    {
     "name": "stdout",
     "output_type": "stream",
     "text": [
      "Rest: 2165\n",
      "Extracted: 16641\n"
     ]
    }
   ],
   "source": [
    "print(\"Rest:\", len(career_lines))\n",
    "print(\"Extracted:\", len(all_careers))"
   ]
  },
  {
   "cell_type": "markdown",
   "metadata": {},
   "source": [
    "**Case 10**  \n",
    "`Alleinsteuermann/-frau` → Add both terms."
   ]
  },
  {
   "cell_type": "code",
   "execution_count": 110,
   "metadata": {},
   "outputs": [],
   "source": [
    "new_career_lines = []\n",
    "\n",
    "for career_line in career_lines:\n",
    "    careers = career_line.split('/')\n",
    "    if len(careers) == 2:\n",
    "        if careers[0][-4:] == 'mann' and careers[1][:5] == '-frau':\n",
    "            all_careers.add(careers[0]) # store\n",
    "            all_careers.add(careers[0][:-4] + 'frau') # store\n",
    "            continue\n",
    "    new_career_lines.append(career_line)\n",
    "\n",
    "career_lines = new_career_lines"
   ]
  },
  {
   "cell_type": "code",
   "execution_count": 111,
   "metadata": {},
   "outputs": [
    {
     "name": "stdout",
     "output_type": "stream",
     "text": [
      "Rest: 1724\n",
      "Extracted: 17147\n"
     ]
    }
   ],
   "source": [
    "print(\"Rest:\", len(career_lines))\n",
    "print(\"Extracted:\", len(all_careers))"
   ]
  },
  {
   "cell_type": "markdown",
   "metadata": {},
   "source": [
    "**Case 11**  \n",
    "`Dipl. Ing.` → Delete all terms featuring this string."
   ]
  },
  {
   "cell_type": "code",
   "execution_count": 112,
   "metadata": {},
   "outputs": [],
   "source": [
    "new_career_lines = []\n",
    "\n",
    "for career_line in career_lines:\n",
    "    if not \"Dipl.\" in career_line and not \"Ing.\" in career_line:\n",
    "        new_career_lines.append(career_line)\n",
    "\n",
    "career_lines = new_career_lines"
   ]
  },
  {
   "cell_type": "code",
   "execution_count": 113,
   "metadata": {},
   "outputs": [
    {
     "name": "stdout",
     "output_type": "stream",
     "text": [
      "Rest: 1624\n",
      "Extracted: 17147\n"
     ]
    }
   ],
   "source": [
    "print(\"Rest:\", len(career_lines))\n",
    "print(\"Extracted:\", len(all_careers))"
   ]
  },
  {
   "cell_type": "markdown",
   "metadata": {},
   "source": [
    "**Case 12**  \n",
    "`Stationsschwester/-pfleger` → Add both terms."
   ]
  },
  {
   "cell_type": "code",
   "execution_count": 114,
   "metadata": {},
   "outputs": [],
   "source": [
    "new_career_lines = []\n",
    "\n",
    "for career_line in career_lines:\n",
    "    careers = career_line.split('/')\n",
    "    if len(careers) == 2:\n",
    "        if \"schwester\" in careers[0] and careers[1] == \"-pfleger\":\n",
    "            all_careers.add(careers[0]) # store\n",
    "            all_careers.add(careers[0][:-9] + 'pfleger') # store\n",
    "            # store\n",
    "            continue\n",
    "            \n",
    "    new_career_lines.append(career_line)\n",
    "\n",
    "career_lines = new_career_lines"
   ]
  },
  {
   "cell_type": "code",
   "execution_count": 115,
   "metadata": {},
   "outputs": [
    {
     "name": "stdout",
     "output_type": "stream",
     "text": [
      "Rest: 1584\n",
      "Extracted: 17224\n"
     ]
    }
   ],
   "source": [
    "print(\"Rest:\", len(career_lines))\n",
    "print(\"Extracted:\", len(all_careers))"
   ]
  },
  {
   "cell_type": "markdown",
   "metadata": {},
   "source": [
    "We now have a total of 17.224 careers that we can find in a speech. For now, we disregard the 1.584 terms that are left."
   ]
  },
  {
   "cell_type": "markdown",
   "metadata": {},
   "source": [
    "### Postprocessing"
   ]
  },
  {
   "cell_type": "markdown",
   "metadata": {},
   "source": [
    "Joining both of our sets (with a total of 18.558 terms):"
   ]
  },
  {
   "cell_type": "code",
   "execution_count": 116,
   "metadata": {},
   "outputs": [
    {
     "name": "stdout",
     "output_type": "stream",
     "text": [
      "18558\n"
     ]
    }
   ],
   "source": [
    "all_gender_terms = gender_terms.union(all_careers)\n",
    "print(len(all_gender_terms))"
   ]
  },
  {
   "cell_type": "markdown",
   "metadata": {},
   "source": [
    "Get rid of all terms with a length of less than 4 characters (since they would likely lead to a lot of false positives)."
   ]
  },
  {
   "cell_type": "code",
   "execution_count": 117,
   "metadata": {},
   "outputs": [],
   "source": [
    "all_gender_terms = set(\n",
    "    list(term for term in all_gender_terms if len(term) > 3)\n",
    ")"
   ]
  },
  {
   "cell_type": "markdown",
   "metadata": {},
   "source": [
    "Excluding some terms that have lead to lots of errors in test runs. For example, the job of `Wirt` is never discussed in our political speeches, whereas `Wirtschaft` is a term often used, leading to a lot of false positives."
   ]
  },
  {
   "cell_type": "code",
   "execution_count": 118,
   "metadata": {},
   "outputs": [],
   "source": [
    "excluded_words = [\"Wirt\", \"Volkswirt\", \"Erbe\", \"Prior\", \"Ober\"]\n",
    "\n",
    "for word in excluded_words:\n",
    "    if word in all_gender_terms:\n",
    "        all_gender_terms.remove(word)"
   ]
  },
  {
   "cell_type": "markdown",
   "metadata": {},
   "source": [
    "Some Words that can't be found by now must be added seperately"
   ]
  },
  {
   "cell_type": "code",
   "execution_count": 119,
   "metadata": {},
   "outputs": [],
   "source": [
    "include_words = set([\"Kollege\", \"Kollegin\", \"Zuhörer\", \"Präsident\"])\n",
    "all_gender_terms = all_gender_terms.union(include_words)"
   ]
  },
  {
   "cell_type": "markdown",
   "metadata": {},
   "source": [
    "Now, we search for the use of our terms in the speeches."
   ]
  },
  {
   "cell_type": "code",
   "execution_count": 120,
   "metadata": {},
   "outputs": [],
   "source": [
    "def terms_in_speech(speech_tokens):\n",
    "    result_set = set()\n",
    "    \n",
    "    for i, token in enumerate(speech_tokens):\n",
    "        if not token[0].isupper():\n",
    "            continue\n",
    "\n",
    "        for gender_term in all_gender_terms:\n",
    "            found_token = None\n",
    "            \n",
    "            if token[:len(gender_term)] == gender_term:\n",
    "                found_token = token\n",
    "            elif token[-len(gender_term):] == gender_term.lower():\n",
    "                found_token = token\n",
    "            \n",
    "            if found_token is not None:\n",
    "                result_set.add((i, found_token))\n",
    "                break\n",
    "    \n",
    "    return sorted(list(result_set))"
   ]
  },
  {
   "cell_type": "code",
   "execution_count": 121,
   "metadata": {},
   "outputs": [],
   "source": [
    "def analyse_speech(speech):\n",
    "    clean_speech = speech.translate(str.maketrans('', '', string.punctuation))\n",
    "    speech_tokens = clean_speech.split()\n",
    "    \n",
    "    relevant_pos_terms = terms_in_speech(speech_tokens)\n",
    "    \n",
    "    terms_with_context = []\n",
    "    \n",
    "    for pos, term in relevant_pos_terms:\n",
    "        result = '[' + term + '] ' + ' '.join(speech_tokens[max(0, pos-2):pos+3])\n",
    "        terms_with_context.append(result)\n",
    "    \n",
    "    return terms_with_context\n"
   ]
  },
  {
   "cell_type": "markdown",
   "metadata": {},
   "source": [
    "## Read JSON File and convert to csv entries"
   ]
  },
  {
   "cell_type": "code",
   "execution_count": 130,
   "metadata": {},
   "outputs": [],
   "source": [
    "file_name = '209'"
   ]
  },
  {
   "cell_type": "code",
   "execution_count": 131,
   "metadata": {},
   "outputs": [
    {
     "data": {
      "text/plain": [
       "381"
      ]
     },
     "execution_count": 131,
     "metadata": {},
     "output_type": "execute_result"
    }
   ],
   "source": [
    "with open(f'output/speakers_{file_name}.json', 'r', encoding='utf-8') as f:\n",
    "  speeches = json.load(f)\n",
    "\n",
    "len(speeches)"
   ]
  },
  {
   "cell_type": "code",
   "execution_count": 132,
   "metadata": {},
   "outputs": [
    {
     "name": "stderr",
     "output_type": "stream",
     "text": [
      "381it [17:22,  2.74s/it]\n"
     ]
    }
   ],
   "source": [
    "csv_lines = []\n",
    "\n",
    "for i, speech in tqdm(enumerate(speeches, start=1)):\n",
    "    gender_terms_with_context = analyse_speech(speech['text'])\n",
    "    party = speech['party'] if 'party' in speech else ''\n",
    "    csv_lines.append(\n",
    "        (speech['speaker'], party, i, gender_terms_with_context)\n",
    "    )"
   ]
  },
  {
   "cell_type": "code",
   "execution_count": 133,
   "metadata": {},
   "outputs": [],
   "source": [
    "OUTPUT_FILE = f'output/gender_terms_per_speech_{file_name}.csv'\n",
    "\n",
    "with open(OUTPUT_FILE, 'w', encoding='utf-8') as f_out:\n",
    "    f_out.write('Speaker|Party|Speech ID|Gendered Terms\\n')\n",
    "    for name, party, speech_id, terms in csv_lines:\n",
    "        f_out.write(\n",
    "            name + '|' + party + '|' + str(speech_id) + '|' + '; '.join(terms) + '\\n'\n",
    "        )"
   ]
  },
  {
   "cell_type": "code",
   "execution_count": null,
   "metadata": {},
   "outputs": [],
   "source": []
  }
 ],
 "metadata": {
  "kernelspec": {
   "display_name": "Python 3",
   "language": "python",
   "name": "python3"
  },
  "language_info": {
   "codemirror_mode": {
    "name": "ipython",
    "version": 3
   },
   "file_extension": ".py",
   "mimetype": "text/x-python",
   "name": "python",
   "nbconvert_exporter": "python",
   "pygments_lexer": "ipython3",
   "version": "3.6.7"
  }
 },
 "nbformat": 4,
 "nbformat_minor": 4
}
