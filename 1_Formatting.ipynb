{
 "cells": [
  {
   "cell_type": "markdown",
   "metadata": {},
   "source": [
    "# Formatting - GenderME"
   ]
  },
  {
   "cell_type": "markdown",
   "metadata": {},
   "source": [
    "## What can the code currently do?\n",
    "1. [x] Find approximate beginning of speeches. \n",
    "1. [x] Split into text parts consisting of president speech portion and following speech.\n",
    "1. [x] Create table of political affiliation, e.g. Alice Weidel - AfD etc.\n",
    "1. [x] Find *actual* beginning of speeches by politicians who are **not** (vice) president.\n",
    "1. [x] Get rid of unnecessary text parts without speeches.\n",
    "1. [x] Get rid of interjections."
   ]
  },
  {
   "cell_type": "markdown",
   "metadata": {},
   "source": [
    "**Notes on the .txt:** \n",
    "1. Numerous (vice) presidents announce speakers, this needs to be taken into account. (Search for _präsident_ instead of Schäuble is the better approach).\n",
    "2. Interjections from other politicians marked with `(...)` -- in the interjections, party affiliation is marked with `[...]`.\n",
    "3. The begin of a speech is marked with ':' -- however, these also appear in speeches. For normal speakers, party affiliation is indicated with `(...)`.  "
   ]
  },
  {
   "cell_type": "markdown",
   "metadata": {},
   "source": [
    "## Pipeline"
   ]
  },
  {
   "cell_type": "markdown",
   "metadata": {},
   "source": [
    "Load test file `plenartest.txt`.\n",
    "\n",
    "Because the original txt.file is not formatted, our analysis of the file needs to include many different aspects, e.g. finding a useful division into paragraphs ourselves. Therefore we need to split the whole document by spaces to look at the individual words and their interaction and relation with each other rather than the text as a whole. "
   ]
  },
  {
   "cell_type": "code",
   "execution_count": 1,
   "metadata": {},
   "outputs": [],
   "source": [
    "import re\n",
    "import json"
   ]
  },
  {
   "cell_type": "code",
   "execution_count": 2,
   "metadata": {},
   "outputs": [],
   "source": [
    "plenar_test = ''\n",
    "\n",
    "with open('res/plenartest.txt', 'r', encoding='utf-8') as file_in:\n",
    "    plenar_test = file_in.read()"
   ]
  },
  {
   "cell_type": "markdown",
   "metadata": {},
   "source": [
    "TODO: Dateien Spaces entfernen, damit diese später noch gefunden werden"
   ]
  },
  {
   "cell_type": "code",
   "execution_count": 3,
   "metadata": {},
   "outputs": [],
   "source": [
    "plenar_test = plenar_test.replace('DIE LINKE', 'DIE_LINKE')\n",
    "plenar_test = plenar_test.replace('BÜNDNIS 90/DIE GRÜNEN', 'BÜNDNIS_90/DIE_GRÜNEN')"
   ]
  },
  {
   "cell_type": "markdown",
   "metadata": {},
   "source": [
    "TODO: Text in Tokens splitten"
   ]
  },
  {
   "cell_type": "code",
   "execution_count": 4,
   "metadata": {},
   "outputs": [],
   "source": [
    "plenar_test = plenar_test.split()"
   ]
  },
  {
   "cell_type": "markdown",
   "metadata": {},
   "source": [
    "~~Find all instances of `Präsident Dr. Wolfgang Schäuble:` in the .txt file. This helps us:~~\n",
    "\n",
    "Find all instances of words containing `präsident` in the .txt file. Then, find the first occurance of a capitalised token followed by a colon. (Which  should be the last name of the president -- to assure this, the distance between the word containing `präsident` and the aforementioned token should not be more than the defined threshold.) \n",
    "\n",
    "This helps us:\n",
    "\n",
    "1. Find the beginning of the relevant text, allowing us to purge the meaningless beginning and end each of the plenary session txt files contains.\n",
    "2. Find the *approximate* beginning of the individual speeches, since presidents and vice presidents introduce all speakers."
   ]
  },
  {
   "cell_type": "markdown",
   "metadata": {},
   "source": [
    "Let us illustrate this using an example from the test .txt file:\n",
    "\n",
    "[...] Der gesamte und damit endgültige Stenografische Bericht der 209. Sitzung wird am 16. Februar 2021 veröffentlicht. **Präsident** *Dr. Wolfgang* **Schäuble:** Guten Morgen, liebe Kolleginnen und Kollegen! [...]\n",
    "\n",
    "In this instance, the distance between the word **Präsident** and **his last name (plus colon)** is *2*. In the following code, we will use a distance of 4 as threshold to account for PhD title, first name and last name, as well as a placeholder for people with the first names et cetera.  "
   ]
  },
  {
   "cell_type": "code",
   "execution_count": 5,
   "metadata": {},
   "outputs": [],
   "source": [
    "president_spotted = False\n",
    "president_position = None\n",
    "president_positions = []\n",
    "\n",
    "for i, token in enumerate(plenar_test):\n",
    "    \n",
    "    if \"präsident\" in token.lower():\n",
    "        president_spotted = True\n",
    "        president_position = i\n",
    "    \n",
    "    if president_spotted:\n",
    "        president_dist = i - president_position - 1\n",
    "        \n",
    "        if president_dist > 4:\n",
    "            president_spotted = False\n",
    "        else:\n",
    "            if token[0].isupper() and token[-1] == ':':\n",
    "                president_positions.append(president_position)\n",
    "                president_spotted = False  \n"
   ]
  },
  {
   "cell_type": "code",
   "execution_count": 6,
   "metadata": {},
   "outputs": [
    {
     "data": {
      "text/plain": [
       "173"
      ]
     },
     "execution_count": 6,
     "metadata": {},
     "output_type": "execute_result"
    }
   ],
   "source": [
    "len(president_positions)"
   ]
  },
  {
   "cell_type": "markdown",
   "metadata": {},
   "source": [
    "Following this step, we split the text into segments which are prefaced by one of the (vice) presidents speaking. "
   ]
  },
  {
   "cell_type": "code",
   "execution_count": 7,
   "metadata": {},
   "outputs": [],
   "source": [
    "president_positions.append(len(plenar_test))\n",
    "\n",
    "president_segments = []\n",
    "\n",
    "for i in range(0, len(president_positions)-1):\n",
    "    first_president_pos = president_positions[i]\n",
    "    second_president_pos = president_positions[i+1]\n",
    "    \n",
    "    president_segment = plenar_test[first_president_pos:second_president_pos]\n",
    "    president_segments.append(president_segment)"
   ]
  },
  {
   "cell_type": "code",
   "execution_count": 8,
   "metadata": {},
   "outputs": [
    {
     "data": {
      "text/plain": [
       "'Vizepräsident Wolfgang Kubicki: Vielen Dank, Frau Kollegin Hänsel. – Als nächstem Redner erteile ich das Wort dem Kollegen Omid Nouripour, Fraktion Bündnis 90/Die Grünen. (Beifall beim BÜNDNIS_90/DIE_GRÜNEN) Omid Nouripour BÜNDNIS_90/DIE_GRÜNEN Omid Nouripour (BÜNDNIS_90/DIE_GRÜNEN): Herr Präsident! Meine Damen und Herren! Der derzeitige Einsatz der Bundeswehr im Mittelmeer ist sinnvoll. Wir werden'"
      ]
     },
     "execution_count": 8,
     "metadata": {},
     "output_type": "execute_result"
    }
   ],
   "source": [
    "' '.join(president_segments[106][:50])"
   ]
  },
  {
   "cell_type": "markdown",
   "metadata": {},
   "source": [
    "Now, we try to find the *actual* beginning of the speeches by definining a vector with likely buzzwords, such as party affiliation (e.g. SPD) or political office (e.g. Bundeskanzlerin)."
   ]
  },
  {
   "cell_type": "code",
   "execution_count": 9,
   "metadata": {},
   "outputs": [],
   "source": [
    "PARTIES  = ['CDU/CSU', 'DIE_LINKE', 'SPD', 'FDP', 'AfD', 'BÜNDNIS_90/DIE_GRÜNEN']\n",
    "\n",
    "def get_party(token):\n",
    "    for party in PARTIES:\n",
    "        if token == '(' + party + '):':\n",
    "            return party\n",
    "    return ''"
   ]
  },
  {
   "cell_type": "code",
   "execution_count": 10,
   "metadata": {},
   "outputs": [],
   "source": [
    "def get_segment_speaker(president_segment, start_pos, found_party):\n",
    "    speaker_name_start = start_pos\n",
    "    while speaker_name_start > start_pos - 10:\n",
    "        if president_segment[speaker_name_start] == found_party:\n",
    "            speaker = president_segment[speaker_name_start+1:start_pos+1]\n",
    "            return ' '.join(speaker)\n",
    "        speaker_name_start -= 1\n",
    "    return 'No Name Found'"
   ]
  },
  {
   "cell_type": "code",
   "execution_count": 11,
   "metadata": {},
   "outputs": [],
   "source": [
    "def get_segment_party(president_segment):\n",
    "    for i, token in enumerate(president_segment):\n",
    "        found_party = get_party(token)\n",
    "        if found_party != '':\n",
    "            speaker = get_segment_speaker(president_segment, i -1, found_party)\n",
    "            return found_party, i, speaker\n",
    "    return None, None, None"
   ]
  },
  {
   "cell_type": "markdown",
   "metadata": {},
   "source": [
    "TODO: Damit lassen sich zu jedem Segment zugehörige Sprecher identifizieren, aber bisher nur diejenigen mit Parteienbezeichnung"
   ]
  },
  {
   "cell_type": "code",
   "execution_count": 12,
   "metadata": {},
   "outputs": [
    {
     "name": "stdout",
     "output_type": "stream",
     "text": [
      "(None, None, None)\n",
      "('AfD', 31, 'Dr. Alice Weidel')\n",
      "('SPD', 25, 'Dr. Rolf Mützenich')\n",
      "('FDP', 24, 'Christian Lindner')\n",
      "('CDU/CSU', 23, 'Ralph Brinkhaus')\n",
      "('DIE_LINKE', 25, 'Dr. Dietmar Bartsch')\n",
      "('BÜNDNIS_90/DIE_GRÜNEN', 24, 'Katrin Göring-Eckardt')\n",
      "('SPD', 21, 'Bärbel Bas')\n",
      "('AfD', 21, 'Sebastian Münzenmaier')\n",
      "('CDU/CSU', 20, 'Alexander Dobrindt')\n"
     ]
    }
   ],
   "source": [
    "for i in range(10): \n",
    "    result = get_segment_party(president_segments[i])\n",
    "    print(result)"
   ]
  },
  {
   "cell_type": "code",
   "execution_count": 13,
   "metadata": {},
   "outputs": [
    {
     "name": "stdout",
     "output_type": "stream",
     "text": [
      "0  >>  Präsident Dr. Wolfgang Schäuble: Guten Morgen, liebe Kolleginnen und Kollegen! Bitte nehmen Sie Platz. Die Sitzung ist eröffnet. Vor Eintritt in die Tagesordnung gratuliere ich nachträglich der Kollegin Franziska Gminder zum 76. Geburtstag und dem Kollegen Dr. Ernst Dieter Rossmann zum 70. Geburtstag. Im Namen des ganzen Hauses wünsche ich\n",
      "\n",
      "33  >>  Vizepräsident Wolfgang Kubicki: Vielen Dank, Herr Kollege Dr. Brandl. – Damit schließe ich die Aussprache. Interfraktionell wird Überweisung der Vorlage auf Drucksache 19/26549 an die in der Tagesordnung aufgeführten Ausschüsse vorgeschlagen. Gibt es weitere Überweisungsvorschläge? – Ich sehe, das ist nicht der Fall. Dann verfahren wir wie vorgeschlagen. Ich rufe\n",
      "\n",
      "82  >>  Vizepräsident in Dagmar Ziegler: Vielen Dank. – Die Aktuelle Stunde ist beendet. Ich rufe den Tagesordnungspunkt 9 auf: Beratung des Antrags der Bundesregierung Fortsetzung der Beteiligung bewaffneter deutscher Streitkräfte an der Mission der Vereinten Nationen in der Republik Südsudan (UNMISS) Drucksache 19/26557 Überweisungsvorschlag: Auswärtiger Ausschuss (f) Ausschuss für Recht und\n",
      "\n",
      "101  >>  Vizepräsident Wolfgang Kubicki: Damit schließe ich die Debatte. Wir werden uns jetzt der Abstimmung zuwenden, zunächst Tagesordnungspunkt 10 a. Wir kommen zur Beschlussempfehlung des Ausschusses für Bildung, Forschung und Technikfolgenabschätzung zu dem Antrag der Fraktion der FDP mit dem Titel „Aus BioNTech-Erfolg lernen – Aktionsprogramm für den Gentechnik-Standort Deutschland vorlegen“.\n",
      "\n",
      "172  >>  Vizepräsidentin Claudia Roth: Vielen Dank, Herr Radwan. – Das Wort zu einer Kurzintervention hat Agnieszka Brugger. Der gesamte und damit endgültige Stenografische Bericht der 209. Sitzung wird am 16. Februar 2021 veröffentlicht. Anlage zum Stenografischen Bericht Anlage Entschuldigte Abgeordnete Abgeordnete(r) Abercron, Dr. Michael von CDU/CSU Baradari, Nezahat SPD Beeck, Jens\n",
      "\n"
     ]
    }
   ],
   "source": [
    "for i, president_segment in enumerate(president_segments):\n",
    "    result = get_segment_party(president_segment)\n",
    "    if result[0] is None:\n",
    "        print(i, ' >> ', ' '.join(president_segment[:50]))\n",
    "        print()"
   ]
  },
  {
   "cell_type": "code",
   "execution_count": 14,
   "metadata": {},
   "outputs": [],
   "source": [
    "speeches_list = []\n",
    "\n",
    "speakers_dict = {}\n",
    "\n",
    "for president_segment in president_segments:\n",
    "    result = get_segment_party(president_segment)\n",
    "    \n",
    "    party = result[0]\n",
    "    pos = result[1]\n",
    "    speaker = result[2]\n",
    "    \n",
    "    if party is None:          #ignore non-party persons, could be TODO\n",
    "        continue\n",
    "    \n",
    "    speech = president_segment[pos+1:]\n",
    "    speech = ' '.join(speech)\n",
    "    \n",
    "    if speaker not in speakers_dict:\n",
    "        speakers_dict[speaker] = [party, speech]\n",
    "    else:\n",
    "        speakers_dict[speaker].append(speech)"
   ]
  },
  {
   "cell_type": "markdown",
   "metadata": {},
   "source": [
    "TODO Number of speakers with parties printed"
   ]
  },
  {
   "cell_type": "code",
   "execution_count": 15,
   "metadata": {},
   "outputs": [
    {
     "data": {
      "text/plain": [
       "123"
      ]
     },
     "execution_count": 15,
     "metadata": {},
     "output_type": "execute_result"
    }
   ],
   "source": [
    "len(speakers_dict)"
   ]
  },
  {
   "cell_type": "markdown",
   "metadata": {},
   "source": [
    "TODO Zwischenrufe entfernen"
   ]
  },
  {
   "cell_type": "code",
   "execution_count": 16,
   "metadata": {},
   "outputs": [],
   "source": [
    "interjection_pattern = '\\(.*?\\)'"
   ]
  },
  {
   "cell_type": "code",
   "execution_count": 17,
   "metadata": {},
   "outputs": [],
   "source": [
    "interjections = []\n",
    "\n",
    "for speaker in speakers_dict:\n",
    "    for i, speech in enumerate(speakers_dict[speaker]):\n",
    "        interjections.extend(\n",
    "            re.findall(interjection_pattern, speech)\n",
    "        )\n",
    "        \n",
    "        speakers_dict[speaker][i] = re.sub(interjection_pattern, '', speech)"
   ]
  },
  {
   "cell_type": "code",
   "execution_count": 18,
   "metadata": {},
   "outputs": [],
   "source": [
    "# for speaker in speakers_dict:\n",
    "#     print(speaker)\n",
    "#     print(speakers_dict[speaker])"
   ]
  },
  {
   "cell_type": "code",
   "execution_count": 19,
   "metadata": {},
   "outputs": [],
   "source": [
    "clean_speakers_list = []\n",
    "\n",
    "for speaker in speakers_dict:\n",
    "    clean_speakers_list.append(\n",
    "        {\n",
    "            'speaker': speaker,\n",
    "            'party': speakers_dict[speaker][0],\n",
    "            'speeches': speakers_dict[speaker][1:],\n",
    "        }\n",
    "    )"
   ]
  },
  {
   "cell_type": "code",
   "execution_count": 20,
   "metadata": {},
   "outputs": [],
   "source": [
    "with open('speakers.json', 'w', encoding='utf-8') as file_out:\n",
    "    json.dump(clean_speakers_list, file_out, ensure_ascii=False)"
   ]
  }
 ],
 "metadata": {
  "kernelspec": {
   "display_name": "Python 3",
   "language": "python",
   "name": "python3"
  },
  "language_info": {
   "codemirror_mode": {
    "name": "ipython",
    "version": 3
   },
   "file_extension": ".py",
   "mimetype": "text/x-python",
   "name": "python",
   "nbconvert_exporter": "python",
   "pygments_lexer": "ipython3",
   "version": "3.8.5"
  }
 },
 "nbformat": 4,
 "nbformat_minor": 4
}
